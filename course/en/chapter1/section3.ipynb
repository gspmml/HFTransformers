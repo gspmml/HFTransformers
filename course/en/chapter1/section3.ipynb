{
 "cells": [
  {
   "cell_type": "markdown",
   "metadata": {
    "colab_type": "text",
    "id": "view-in-github"
   },
   "source": [
    "<a href=\"https://colab.research.google.com/github/gspmml/HFTransformers/blob/main/course/en/chapter1/section3.ipynb\" target=\"_parent\"><img src=\"https://colab.research.google.com/assets/colab-badge.svg\" alt=\"Open In Colab\"/></a>"
   ]
  },
  {
   "cell_type": "markdown",
   "metadata": {
    "id": "r9o3PPXXzKnJ"
   },
   "source": [
    "# Transformers, what can they do?"
   ]
  },
  {
   "cell_type": "markdown",
   "metadata": {
    "id": "SNfV4JF_zKnK"
   },
   "source": [
    "Install the Transformers, Datasets, and Evaluate libraries to run this notebook."
   ]
  },
  {
   "cell_type": "code",
   "execution_count": null,
   "metadata": {
    "colab": {
     "base_uri": "https://localhost:8080/"
    },
    "id": "CYgp9E-UzKnK",
    "outputId": "ab1ff3db-1e2b-4ff9-ff1a-c2e80c73fc07"
   },
   "outputs": [],
   "source": [
    "!pip install datasets evaluate \"transformers[sentencepiece]\""
   ]
  },
  {
   "cell_type": "code",
   "execution_count": 3,
   "metadata": {
    "colab": {
     "base_uri": "https://localhost:8080/",
     "height": 373,
     "referenced_widgets": [
      "09ef85e69908476498ddba48c85d1800",
      "7c2a0de89b4f43be9600597d4b6ac8c0",
      "3433a29237f04e40b5a966dc237c1326",
      "468c568ee5a04f8194eab9640ac45beb",
      "5b2ddf5a0a694d459f8fb6b98a861aa8",
      "8e1b233fb7b84be79907265c6412b8e4",
      "f12b30e24b5c46e9bfb053a3f300ccde",
      "d5580c60490d4d56856e870ea41cc9ca",
      "41853d39b14348818889a3f6ac7f47b8",
      "6854f24b8d8744aab3a00923736e0464",
      "a89690417dd341719f3a66635f416cd2",
      "5a23bd32a7204b02b3c67a2dcb2f2521",
      "20050ac74afe41a4afe7514874fc8bae",
      "b9d147b19c6c48e282e4d5e46f748411",
      "aee9cba2ec0c4ef9acf6bbfe52728b68",
      "57362fd97b3148d8b5cebfbce1f20482",
      "7dd2fd4e82b54a51a17d31476d46d117",
      "f4be51d248b44260821c80585ad43332",
      "830aeea4d8ef40df89d31c5b94f7d807",
      "d64a312f13c9408d9a84c9880333b324",
      "2f985e80d22c4af78a62a0167d4781ab",
      "ee737d81df07421ebefd74454876b260",
      "01b2dec269f247bbb2680fa1387f8d30",
      "38d7824f472d4aa8ba93b440a5a40611",
      "d8a8805520de41cca644158bd97bf5e2",
      "a72ac4fb7542425bb466e0527883f41b",
      "48ab70d4beb24aabb986ee31a3eff373",
      "4b625f1aabac4985bb92fec09bf91d04",
      "2fd9b0c953614051ae60517803f513df",
      "40ea716e718740529b82d8a40b7f03b6",
      "3354ea79214f4ee2ab98f01d1be105fc",
      "af7e11f4557240e68104246566a9039f",
      "0749e974417f45a4a575abbd79c76e4a",
      "9dd2441d7021478599a3d1c1289020d6",
      "f041d9afc5f14e88b4ed58610aeaa3d4",
      "04385906c569445c9031bd9e9f00f17c",
      "4ccaba4fbdc340b2b33fb61b2e602069",
      "ebcd1d48619e444e8bb0746351f40b72",
      "6832e218f864463ca4572b55f5c4a326",
      "80de25b671be4c9ba48f398fb213ab18",
      "4674ddfc1ade4b65a56aaac2faf8a953",
      "0554efc2b7254a589292bc410c649d2c",
      "ea49bc085b91470d962542614cb47909",
      "f0d89e352d8045b4ad437824a1060b36"
     ]
    },
    "id": "spLorQJczKnL",
    "outputId": "54f29e42-cb52-4335-9fdc-240ba12c3ab6"
   },
   "outputs": [
    {
     "name": "stderr",
     "output_type": "stream",
     "text": [
      "Device set to use mps:0\n"
     ]
    },
    {
     "data": {
      "text/plain": [
       "[{'label': 'POSITIVE', 'score': 0.9598050713539124}]"
      ]
     },
     "execution_count": 3,
     "metadata": {},
     "output_type": "execute_result"
    }
   ],
   "source": [
    "from transformers import pipeline\n",
    "\n",
    "# Explicitly specify the model and framework\n",
    "classifier = pipeline(\n",
    "    \"sentiment-analysis\",\n",
    "    model=\"distilbert/distilbert-base-uncased-finetuned-sst-2-english\",\n",
    "    framework=\"pt\",  # explicitly specify PyTorch\n",
    "    revision=\"714eb0f\"\n",
    ")\n",
    "classifier(\"I've been waiting for a HuggingFace course my whole life.\")"
   ]
  },
  {
   "cell_type": "code",
   "execution_count": 4,
   "metadata": {
    "id": "wN9th6ggzKnL",
    "outputId": "0a340714-36de-4c1f-befb-822dcc349046"
   },
   "outputs": [
    {
     "data": {
      "text/plain": [
       "[{'label': 'POSITIVE', 'score': 0.9598050713539124},\n",
       " {'label': 'NEGATIVE', 'score': 0.9994558691978455}]"
      ]
     },
     "execution_count": 4,
     "metadata": {},
     "output_type": "execute_result"
    }
   ],
   "source": [
    "classifier(\n",
    "    [\"I've been waiting for a HuggingFace course my whole life.\", \"I hate this so much!\"]\n",
    ")"
   ]
  },
  {
   "cell_type": "code",
   "execution_count": 6,
   "metadata": {
    "id": "Hc9axxlizKnL",
    "outputId": "fececc9d-1597-459a-87d5-51278637d54a"
   },
   "outputs": [
    {
     "name": "stdout",
     "output_type": "stream",
     "text": [
      "Using device: mps\n"
     ]
    },
    {
     "name": "stderr",
     "output_type": "stream",
     "text": [
      "Device set to use mps\n"
     ]
    },
    {
     "data": {
      "text/plain": [
       "{'sequence': 'This is a course about the Transformers library',\n",
       " 'labels': ['education', 'business', 'politics'],\n",
       " 'scores': [0.8445961475372314, 0.1119762659072876, 0.04342758283019066]}"
      ]
     },
     "execution_count": 6,
     "metadata": {},
     "output_type": "execute_result"
    }
   ],
   "source": [
    "from transformers import pipeline\n",
    "import torch\n",
    "\n",
    "# Check if MPS is available and set device accordingly\n",
    "device = \"mps\" if torch.backends.mps.is_available() else \"cpu\"\n",
    "print(f\"Using device: {device}\")\n",
    "\n",
    "classifier = pipeline(\n",
    "    \"zero-shot-classification\",\n",
    "    model=\"facebook/bart-large-mnli\",\n",
    "    device=device  # Set the device for hardware acceleration\n",
    ")\n",
    "classifier(\n",
    "    \"This is a course about the Transformers library\",\n",
    "    candidate_labels=[\"education\", \"politics\", \"business\"],\n",
    ")"
   ]
  },
  {
   "cell_type": "code",
   "execution_count": null,
   "metadata": {
    "id": "s0G-48pvzKnL",
    "outputId": "7e3dae8d-6eca-4937-b8d6-ffa59f165c77"
   },
   "outputs": [],
   "source": [
    "from transformers import pipeline\n",
    "\n",
    "generator = pipeline(\n",
    "    \"text-generation\",\n",
    "    model=\"gpt2\",\n",
    "    max_new_tokens=50\n",
    ")\n",
    "generator(\"In this course, we will teach you how to\")"
   ]
  },
  {
   "cell_type": "code",
   "execution_count": null,
   "metadata": {
    "id": "0gZLOzgRzKnM",
    "outputId": "c6cec3c9-af3b-4f61-8cc7-b6cb3ef36fde"
   },
   "outputs": [],
   "source": [
    "from transformers import pipeline\n",
    "\n",
    "generator = pipeline(\"text-generation\", model=\"distilgpt2\")\n",
    "generator(\n",
    "    \"In this course, we will teach you how to\",\n",
    "    max_length=30,\n",
    "    num_return_sequences=2,\n",
    ")"
   ]
  },
  {
   "cell_type": "code",
   "execution_count": null,
   "metadata": {
    "id": "aAZWLgZ5zKnM",
    "outputId": "649ec90a-eb4a-4ef7-8fc3-38eb6716472e"
   },
   "outputs": [],
   "source": [
    "from transformers import pipeline\n",
    "\n",
    "unmasker = pipeline(\n",
    "    \"fill-mask\",\n",
    "    model=\"bert-base-uncased\"\n",
    ")\n",
    "unmasker(\"This course will teach you all about <mask> models.\", top_k=2)"
   ]
  },
  {
   "cell_type": "code",
   "execution_count": null,
   "metadata": {
    "id": "4qkoIBoKzKnM",
    "outputId": "9142bf3d-2d05-402d-9345-e6c91b2943fa"
   },
   "outputs": [],
   "source": [
    "from transformers import pipeline\n",
    "\n",
    "ner = pipeline(\n",
    "    \"ner\",\n",
    "    model=\"dbmdz/bert-large-cased-finetuned-conll03-english\",\n",
    "    grouped_entities=True\n",
    ")\n",
    "ner(\"My name is Sylvain and I work at Hugging Face in Brooklyn.\")"
   ]
  },
  {
   "cell_type": "code",
   "execution_count": null,
   "metadata": {
    "id": "4f31U7UbzKnM",
    "outputId": "73992371-d620-4d8c-95af-18598ae397a7"
   },
   "outputs": [],
   "source": [
    "from transformers import pipeline\n",
    "\n",
    "question_answerer = pipeline(\n",
    "    \"question-answering\",\n",
    "    model=\"deepset/roberta-base-squad2\"\n",
    ")\n",
    "question_answerer(\n",
    "    question=\"Where do I work?\",\n",
    "    context=\"My name is Sylvain and I work at Hugging Face in Brooklyn\",\n",
    ")"
   ]
  },
  {
   "cell_type": "code",
   "execution_count": null,
   "metadata": {},
   "outputs": [],
   "source": [
    "from transformers import pipeline\n",
    "\n",
    "summarizer = pipeline(\n",
    "    \"summarization\",\n",
    "    model=\"facebook/bart-large-cnn\"\n",
    ")\n",
    "summarizer(\n",
    "    \"\"\"\n",
    "    America has changed dramatically during recent years. Not only has the number of\n",
    "    graduates in traditional engineering disciplines such as mechanical, civil,\n",
    "    electrical, chemical, and aeronautical engineering declined, but in most of\n",
    "    the premier American universities engineering curricula now concentrate on\n",
    "    and encourage largely the study of engineering science. As a result, there\n",
    "    are declining offerings in engineering subjects dealing with infrastructure,\n",
    "    the environment, and related issues, and greater concentration on high\n",
    "    technology subjects, largely supporting increasingly complex scientific\n",
    "    developments. While the latter is important, it should not be at the expense\n",
    "    of more traditional engineering.\n",
    "\n",
    "    Rapidly developing economies such as China and India, as well as other\n",
    "    industrial countries in Europe and Asia, continue to encourage and advance\n",
    "    the teaching of engineering. Both China and India, respectively, graduate\n",
    "    six and eight times as many traditional engineers as does the United States.\n",
    "    Other industrial countries at minimum maintain their output, while America\n",
    "    suffers an increasingly serious decline in the number of engineering graduates\n",
    "    and a lack of well-educated engineers.\n",
    "    \"\"\"\n",
    ")"
   ]
  },
  {
   "cell_type": "code",
   "execution_count": null,
   "metadata": {
    "vscode": {
     "languageId": "json"
    }
   },
   "outputs": [],
   "source": [
    "{\n",
    "  \"cells\": [\n",
    "    // ...existing code...\n",
    "  ],\n",
    "  \"metadata\": {\n",
    "    \"colab\": {\n",
    "      \"provenance\": []\n",
    "    },\n",
    "    \"kernelspec\": {\n",
    "      \"display_name\": \"Python 3.12 (HFTransformers)\",\n",
    "      \"language\": \"python\",\n",
    "      \"name\": \"hftransformers_3_12\"\n",
    "    },\n",
    "    \"language_info\": {\n",
    "      \"codemirror_mode\": {\n",
    "        \"name\": \"ipython\",\n",
    "        \"version\": 3\n",
    "      },\n",
    "      \"file_extension\": \".py\",\n",
    "      \"mimetype\": \"text/x-python\",\n",
    "      \"name\": \"python\",\n",
    "      \"nbconvert_exporter\": \"python\",\n",
    "      \"pygments_lexer\": \"ipython3\",\n",
    "      \"version\": \"3.12.9\"\n",
    "    },\n",
    "    \"widgets\": {\n",
    "      \"application/vnd.jupyter.widget-state+json\": {\n",
    "        \"state\": {},\n",
    "        \"version_major\": 2,\n",
    "        \"version_minor\": 0\n",
    "      }\n",
    "    }\n",
    "  },\n",
    "  \"nbformat\": 4,\n",
    "  \"nbformat_minor\": 0\n",
    "}"
   ]
  }
 ],
 "metadata": {
  "colab": {
   "include_colab_link": true,
   "name": "Transformers, what can they do?",
   "provenance": []
  },
  "kernelspec": {
   "display_name": "Python 3.12 (HFTransformers)",
   "language": "python",
   "name": "hftransformers_3_12"
  },
  "language_info": {
   "codemirror_mode": {
    "name": "ipython",
    "version": 3
   },
   "file_extension": ".py",
   "mimetype": "text/x-python",
   "name": "python",
   "nbconvert_exporter": "python",
   "pygments_lexer": "ipython3",
   "version": "3.12.9"
  },
  "widgets": {
   "application/vnd.jupyter.widget-state+json": {
    "state": {},
    "version_major": 2,
    "version_minor": 0
   }
  }
 },
 "nbformat": 4,
 "nbformat_minor": 0
}
